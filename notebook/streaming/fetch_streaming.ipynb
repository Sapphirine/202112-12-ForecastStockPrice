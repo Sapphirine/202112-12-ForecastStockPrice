{
 "cells": [
  {
   "cell_type": "code",
   "execution_count": 1,
   "id": "5602ea39",
   "metadata": {},
   "outputs": [
    {
     "name": "stdout",
     "output_type": "stream",
     "text": [
      "Python version\n",
      "3.8.12 (default, Oct 12 2021, 06:23:56) \n",
      "[Clang 10.0.0 ]\n",
      "tweepy 4.4.0\n"
     ]
    },
    {
     "ename": "ImportError",
     "evalue": "cannot import name 'StreamListener' from 'tweepy.streaming' (/Users/sow/opt/miniconda3/envs/algo/lib/python3.8/site-packages/tweepy/streaming.py)",
     "output_type": "error",
     "traceback": [
      "\u001b[0;31m---------------------------------------------------------------------------\u001b[0m",
      "\u001b[0;31mImportError\u001b[0m                               Traceback (most recent call last)",
      "\u001b[0;32m/var/folders/8n/t50psr4d2pj80nb_3g7gpcwh0000gn/T/ipykernel_27569/963756227.py\u001b[0m in \u001b[0;36m<module>\u001b[0;34m\u001b[0m\n\u001b[1;32m      2\u001b[0m \u001b[0msys\u001b[0m\u001b[0;34m.\u001b[0m\u001b[0mpath\u001b[0m\u001b[0;34m.\u001b[0m\u001b[0mappend\u001b[0m\u001b[0;34m(\u001b[0m\u001b[0;34m'/Users/sow/Documents/CU/FA21/EECS6893_BDA/PJ/code'\u001b[0m\u001b[0;34m)\u001b[0m\u001b[0;34m\u001b[0m\u001b[0;34m\u001b[0m\u001b[0m\n\u001b[1;32m      3\u001b[0m \u001b[0;34m\u001b[0m\u001b[0m\n\u001b[0;32m----> 4\u001b[0;31m \u001b[0;32mfrom\u001b[0m \u001b[0mstreaming\u001b[0m\u001b[0;34m.\u001b[0m\u001b[0mtwitter\u001b[0m\u001b[0;34m.\u001b[0m\u001b[0mtwitterHTTPClient\u001b[0m \u001b[0;32mimport\u001b[0m \u001b[0;34m*\u001b[0m\u001b[0;34m\u001b[0m\u001b[0;34m\u001b[0m\u001b[0m\n\u001b[0m\u001b[1;32m      5\u001b[0m \u001b[0;34m\u001b[0m\u001b[0m\n\u001b[1;32m      6\u001b[0m \u001b[0;32mimport\u001b[0m \u001b[0mpandas\u001b[0m \u001b[0;32mas\u001b[0m \u001b[0mpd\u001b[0m\u001b[0;34m\u001b[0m\u001b[0;34m\u001b[0m\u001b[0m\n",
      "\u001b[0;32m~/Documents/CU/FA21/EECS6893_BDA/PJ/code/streaming/twitter/twitterHTTPClient.py\u001b[0m in \u001b[0;36m<module>\u001b[0;34m\u001b[0m\n\u001b[1;32m     32\u001b[0m \u001b[0;32mfrom\u001b[0m \u001b[0mtweepy\u001b[0m \u001b[0;32mimport\u001b[0m \u001b[0mOAuthHandler\u001b[0m\u001b[0;34m\u001b[0m\u001b[0;34m\u001b[0m\u001b[0m\n\u001b[1;32m     33\u001b[0m \u001b[0;32mfrom\u001b[0m \u001b[0mtweepy\u001b[0m \u001b[0;32mimport\u001b[0m \u001b[0mStream\u001b[0m\u001b[0;34m\u001b[0m\u001b[0;34m\u001b[0m\u001b[0m\n\u001b[0;32m---> 34\u001b[0;31m \u001b[0;32mfrom\u001b[0m \u001b[0mtweepy\u001b[0m\u001b[0;34m.\u001b[0m\u001b[0mstreaming\u001b[0m \u001b[0;32mimport\u001b[0m \u001b[0mStreamListener\u001b[0m\u001b[0;34m\u001b[0m\u001b[0;34m\u001b[0m\u001b[0m\n\u001b[0m\u001b[1;32m     35\u001b[0m \u001b[0;32mimport\u001b[0m \u001b[0msocket\u001b[0m\u001b[0;34m\u001b[0m\u001b[0;34m\u001b[0m\u001b[0m\n\u001b[1;32m     36\u001b[0m \u001b[0;32mimport\u001b[0m \u001b[0mjson\u001b[0m\u001b[0;34m\u001b[0m\u001b[0;34m\u001b[0m\u001b[0m\n",
      "\u001b[0;31mImportError\u001b[0m: cannot import name 'StreamListener' from 'tweepy.streaming' (/Users/sow/opt/miniconda3/envs/algo/lib/python3.8/site-packages/tweepy/streaming.py)"
     ]
    }
   ],
   "source": [
    "import sys\n",
    "sys.path.append('/Users/sow/Documents/CU/FA21/EECS6893_BDA/PJ/code')\n",
    "\n",
    "from streaming.twitter.twitterHTTPClient import *\n",
    "\n",
    "import pandas as pd\n",
    "import os\n",
    "import numpy as np"
   ]
  },
  {
   "cell_type": "code",
   "execution_count": 13,
   "id": "80c7999d",
   "metadata": {},
   "outputs": [
    {
     "name": "stdout",
     "output_type": "stream",
     "text": [
      "99\n",
      "['CSCO', 'LBTYK', 'VRTX', 'GILD', 'FOX']\n"
     ]
    }
   ],
   "source": [
    "# 读取NASDAQ100的股票代码\n",
    "with open('/Users/sow/Documents/CU/FA21/EECS6893_BDA/PJ/data/NASDAQ100.txt', 'r') as f:\n",
    "    NASDAQ100 = [x.strip('\\n') for x in f.readlines()]\n",
    "    \n",
    "print(len(NASDAQ100))\n",
    "print(NASDAQ100[:5])"
   ]
  },
  {
   "cell_type": "code",
   "execution_count": 14,
   "id": "5ee498ee",
   "metadata": {},
   "outputs": [
    {
     "data": {
      "text/plain": [
       "array([False, False, False])"
      ]
     },
     "execution_count": 14,
     "metadata": {},
     "output_type": "execute_result"
    }
   ],
   "source": [
    "# 读取实时tweets\n",
    "tags = ['${}'.format(x) for x in NASDAQ]\n",
    "\n",
    "client = twitter_client(\"localhost\", 9001)\n",
    "client.run_client(tags)"
   ]
  },
  {
   "cell_type": "code",
   "execution_count": null,
   "id": "07950caa",
   "metadata": {},
   "outputs": [],
   "source": []
  }
 ],
 "metadata": {
  "kernelspec": {
   "display_name": "bda_env",
   "language": "python",
   "name": "bda_env"
  },
  "language_info": {
   "codemirror_mode": {
    "name": "ipython",
    "version": 3
   },
   "file_extension": ".py",
   "mimetype": "text/x-python",
   "name": "python",
   "nbconvert_exporter": "python",
   "pygments_lexer": "ipython3",
   "version": "3.8.12"
  }
 },
 "nbformat": 4,
 "nbformat_minor": 5
}
