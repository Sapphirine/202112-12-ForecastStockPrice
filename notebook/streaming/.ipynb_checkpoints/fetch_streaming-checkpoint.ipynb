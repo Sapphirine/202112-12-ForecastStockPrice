{
 "cells": [
  {
   "cell_type": "code",
   "execution_count": 1,
   "id": "2d744d41",
   "metadata": {},
   "outputs": [],
   "source": [
    "import sys\n",
    "sys.path.append('/Users/sow/Documents/CU/FA21/EECS6893_BDA/PJ/code')\n",
    "\n",
    "import pandas as pd\n",
    "import os\n",
    "import numpy as np"
   ]
  },
  {
   "cell_type": "code",
   "execution_count": 12,
   "id": "7bd48ef1",
   "metadata": {},
   "outputs": [
    {
     "name": "stdout",
     "output_type": "stream",
     "text": [
      "['csco.csv', 'lbtyk.csv', 'vrtx.csv', 'gild.csv', 'fox.csv']\n",
      "['CSCO', 'LBTYK', 'VRTX', 'GILD', 'FOX']\n"
     ]
    }
   ],
   "source": [
    "# 生成NASDAQ100的股票代码\n",
    "fpath = '/Users/sow/Documents/CU/FA21/EECS6893_BDA/PJ/data/NASDQ/data'\n",
    "index_lst = [x[:-4].upper() for x in os.listdir(fpath)]\n",
    "\n",
    "with open('/Users/sow/Documents/CU/FA21/EECS6893_BDA/PJ/data/NASDAQ100.txt', 'w') as f:\n",
    "    f.write('\\n'.join(index_lst))"
   ]
  },
  {
   "cell_type": "code",
   "execution_count": 9,
   "id": "a216e328",
   "metadata": {},
   "outputs": [
    {
     "name": "stdout",
     "output_type": "stream",
     "text": [
      "99\n",
      "['O', 'LBTYK', 'RTX', 'GILD', 'FOX']\n"
     ]
    }
   ],
   "source": [
    "with open('/Users/sow/Documents/CU/FA21/EECS6893_BDA/PJ/data/NASDAQ100.txt', 'r') as f:\n",
    "    NASDAQ100 = [x.strip('\\n') for x in f.readlines()]\n",
    "    \n",
    "print(len(NASDAQ100))\n",
    "print(NASDAQ100[:5])"
   ]
  },
  {
   "cell_type": "code",
   "execution_count": null,
   "id": "9c78855f",
   "metadata": {},
   "outputs": [],
   "source": []
  }
 ],
 "metadata": {
  "kernelspec": {
   "display_name": "algo",
   "language": "python",
   "name": "algo"
  },
  "language_info": {
   "codemirror_mode": {
    "name": "ipython",
    "version": 3
   },
   "file_extension": ".py",
   "mimetype": "text/x-python",
   "name": "python",
   "nbconvert_exporter": "python",
   "pygments_lexer": "ipython3",
   "version": "3.8.12"
  }
 },
 "nbformat": 4,
 "nbformat_minor": 5
}
