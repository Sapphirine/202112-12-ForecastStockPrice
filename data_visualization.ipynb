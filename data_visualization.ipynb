{
 "cells": [
  {
   "cell_type": "code",
   "execution_count": 44,
   "metadata": {},
   "outputs": [],
   "source": [
    "import pandas as pd\n",
    "import seaborn as sns\n",
    "import matplotlib.pyplot as plt\n",
    "import numpy as np\n",
    "%matplotlib inline"
   ]
  },
  {
   "cell_type": "code",
   "execution_count": 45,
   "metadata": {},
   "outputs": [],
   "source": [
    "import warnings\n",
    "warnings.filterwarnings('ignore')"
   ]
  },
  {
   "cell_type": "code",
   "execution_count": 46,
   "metadata": {},
   "outputs": [
    {
     "data": {
      "text/html": [
       "<div>\n",
       "<style scoped>\n",
       "    .dataframe tbody tr th:only-of-type {\n",
       "        vertical-align: middle;\n",
       "    }\n",
       "\n",
       "    .dataframe tbody tr th {\n",
       "        vertical-align: top;\n",
       "    }\n",
       "\n",
       "    .dataframe thead th {\n",
       "        text-align: right;\n",
       "    }\n",
       "</style>\n",
       "<table border=\"1\" class=\"dataframe\">\n",
       "  <thead>\n",
       "    <tr style=\"text-align: right;\">\n",
       "      <th></th>\n",
       "      <th>Unnamed: 0</th>\n",
       "      <th>index</th>\n",
       "      <th>Date</th>\n",
       "      <th>0</th>\n",
       "      <th>1</th>\n",
       "      <th>2</th>\n",
       "      <th>3</th>\n",
       "      <th>4</th>\n",
       "      <th>5</th>\n",
       "      <th>6</th>\n",
       "      <th>...</th>\n",
       "      <th>18</th>\n",
       "      <th>19</th>\n",
       "      <th>20</th>\n",
       "      <th>21</th>\n",
       "      <th>22</th>\n",
       "      <th>23</th>\n",
       "      <th>avg</th>\n",
       "      <th>prev_label</th>\n",
       "      <th>prev_rate</th>\n",
       "      <th>label</th>\n",
       "    </tr>\n",
       "  </thead>\n",
       "  <tbody>\n",
       "    <tr>\n",
       "      <th>0</th>\n",
       "      <td>0</td>\n",
       "      <td>MU</td>\n",
       "      <td>2016-03-31</td>\n",
       "      <td>0.000000</td>\n",
       "      <td>0.0000</td>\n",
       "      <td>0.00000</td>\n",
       "      <td>0.00000</td>\n",
       "      <td>0.000000</td>\n",
       "      <td>0.0</td>\n",
       "      <td>0.00000</td>\n",
       "      <td>...</td>\n",
       "      <td>0.082465</td>\n",
       "      <td>-0.045258</td>\n",
       "      <td>0.122358</td>\n",
       "      <td>-0.113983</td>\n",
       "      <td>0.1665</td>\n",
       "      <td>0.205533</td>\n",
       "      <td>0.037124</td>\n",
       "      <td>True</td>\n",
       "      <td>0.015519</td>\n",
       "      <td>True</td>\n",
       "    </tr>\n",
       "    <tr>\n",
       "      <th>1</th>\n",
       "      <td>1</td>\n",
       "      <td>MU</td>\n",
       "      <td>2016-04-04</td>\n",
       "      <td>0.315700</td>\n",
       "      <td>0.0000</td>\n",
       "      <td>0.61240</td>\n",
       "      <td>0.51695</td>\n",
       "      <td>0.065350</td>\n",
       "      <td>0.0</td>\n",
       "      <td>0.49390</td>\n",
       "      <td>...</td>\n",
       "      <td>0.000000</td>\n",
       "      <td>0.238863</td>\n",
       "      <td>-0.064060</td>\n",
       "      <td>0.000000</td>\n",
       "      <td>0.2732</td>\n",
       "      <td>0.254050</td>\n",
       "      <td>0.179038</td>\n",
       "      <td>False</td>\n",
       "      <td>-0.023508</td>\n",
       "      <td>False</td>\n",
       "    </tr>\n",
       "    <tr>\n",
       "      <th>2</th>\n",
       "      <td>2</td>\n",
       "      <td>MU</td>\n",
       "      <td>2016-04-05</td>\n",
       "      <td>0.000000</td>\n",
       "      <td>0.0000</td>\n",
       "      <td>0.20230</td>\n",
       "      <td>-0.04400</td>\n",
       "      <td>0.140500</td>\n",
       "      <td>0.0</td>\n",
       "      <td>0.13660</td>\n",
       "      <td>...</td>\n",
       "      <td>-0.056575</td>\n",
       "      <td>0.218333</td>\n",
       "      <td>0.098667</td>\n",
       "      <td>0.416700</td>\n",
       "      <td>0.0000</td>\n",
       "      <td>0.122667</td>\n",
       "      <td>0.161318</td>\n",
       "      <td>False</td>\n",
       "      <td>-0.021637</td>\n",
       "      <td>True</td>\n",
       "    </tr>\n",
       "    <tr>\n",
       "      <th>3</th>\n",
       "      <td>3</td>\n",
       "      <td>MU</td>\n",
       "      <td>2016-04-06</td>\n",
       "      <td>0.293767</td>\n",
       "      <td>0.0000</td>\n",
       "      <td>0.17000</td>\n",
       "      <td>0.00000</td>\n",
       "      <td>0.000000</td>\n",
       "      <td>0.0</td>\n",
       "      <td>-0.31245</td>\n",
       "      <td>...</td>\n",
       "      <td>0.000000</td>\n",
       "      <td>0.000000</td>\n",
       "      <td>0.000000</td>\n",
       "      <td>0.318200</td>\n",
       "      <td>0.0000</td>\n",
       "      <td>0.642750</td>\n",
       "      <td>-0.001381</td>\n",
       "      <td>True</td>\n",
       "      <td>0.004798</td>\n",
       "      <td>True</td>\n",
       "    </tr>\n",
       "    <tr>\n",
       "      <th>4</th>\n",
       "      <td>4</td>\n",
       "      <td>MU</td>\n",
       "      <td>2016-04-07</td>\n",
       "      <td>0.035580</td>\n",
       "      <td>0.3931</td>\n",
       "      <td>0.28255</td>\n",
       "      <td>0.73510</td>\n",
       "      <td>0.105375</td>\n",
       "      <td>0.0</td>\n",
       "      <td>0.00000</td>\n",
       "      <td>...</td>\n",
       "      <td>0.394000</td>\n",
       "      <td>0.034233</td>\n",
       "      <td>0.242220</td>\n",
       "      <td>0.098667</td>\n",
       "      <td>0.0000</td>\n",
       "      <td>0.000000</td>\n",
       "      <td>0.186738</td>\n",
       "      <td>True</td>\n",
       "      <td>0.008637</td>\n",
       "      <td>True</td>\n",
       "    </tr>\n",
       "  </tbody>\n",
       "</table>\n",
       "<p>5 rows × 31 columns</p>\n",
       "</div>"
      ],
      "text/plain": [
       "   Unnamed: 0 index        Date         0       1        2        3         4  \\\n",
       "0           0    MU  2016-03-31  0.000000  0.0000  0.00000  0.00000  0.000000   \n",
       "1           1    MU  2016-04-04  0.315700  0.0000  0.61240  0.51695  0.065350   \n",
       "2           2    MU  2016-04-05  0.000000  0.0000  0.20230 -0.04400  0.140500   \n",
       "3           3    MU  2016-04-06  0.293767  0.0000  0.17000  0.00000  0.000000   \n",
       "4           4    MU  2016-04-07  0.035580  0.3931  0.28255  0.73510  0.105375   \n",
       "\n",
       "     5        6  ...        18        19        20        21      22  \\\n",
       "0  0.0  0.00000  ...  0.082465 -0.045258  0.122358 -0.113983  0.1665   \n",
       "1  0.0  0.49390  ...  0.000000  0.238863 -0.064060  0.000000  0.2732   \n",
       "2  0.0  0.13660  ... -0.056575  0.218333  0.098667  0.416700  0.0000   \n",
       "3  0.0 -0.31245  ...  0.000000  0.000000  0.000000  0.318200  0.0000   \n",
       "4  0.0  0.00000  ...  0.394000  0.034233  0.242220  0.098667  0.0000   \n",
       "\n",
       "         23       avg  prev_label  prev_rate  label  \n",
       "0  0.205533  0.037124        True   0.015519   True  \n",
       "1  0.254050  0.179038       False  -0.023508  False  \n",
       "2  0.122667  0.161318       False  -0.021637   True  \n",
       "3  0.642750 -0.001381        True   0.004798   True  \n",
       "4  0.000000  0.186738        True   0.008637   True  \n",
       "\n",
       "[5 rows x 31 columns]"
      ]
     },
     "execution_count": 46,
     "metadata": {},
     "output_type": "execute_result"
    }
   ],
   "source": [
    "df1 = pd.read_csv('merged_data.csv')\n",
    "df2 = pd.read_csv('weighted_dataset.csv')\n",
    "df2.head()"
   ]
  },
  {
   "cell_type": "code",
   "execution_count": 47,
   "metadata": {},
   "outputs": [
    {
     "data": {
      "image/png": "[encoded data removed]",
      "text/plain": [
       "<Figure size 720x360 with 2 Axes>"
      ]
     },
     "metadata": {
      "needs_background": "light"
     },
     "output_type": "display_data"
    }
   ],
   "source": [
    "plt.figure(figsize=(10,5))\n",
    "plt.subplot(1,2,1)\n",
    "sns.histplot(df1['avg'])\n",
    "plt.subplot(1,2,2)\n",
    "sns.histplot(df2['avg'])\n",
    "plt.show()"
   ]
  },
  {
   "cell_type": "code",
   "execution_count": 54,
   "metadata": {},
   "outputs": [
    {
     "data": {
      "image/png": "[encoded data removed]",
      "text/plain": [
       "<Figure size 720x360 with 2 Axes>"
      ]
     },
     "metadata": {
      "needs_background": "light"
     },
     "output_type": "display_data"
    }
   ],
   "source": [
    "plt.figure(figsize=(10,5))\n",
    "plt.subplot(1,2,1)\n",
    "sns.boxplot(x=df1['label'], y=df1['avg'])\n",
    "plt.subplot(1,2,2)\n",
    "sns.boxplot(x=df2['label'], y=df2['avg'])\n",
    "plt.show()"
   ]
  },
  {
   "cell_type": "code",
   "execution_count": null,
   "metadata": {},
   "outputs": [],
   "source": []
  }
 ],
 "metadata": {
  "kernelspec": {
   "display_name": "Python 3",
   "language": "python",
   "name": "python3"
  },
  "language_info": {
   "codemirror_mode": {
    "name": "ipython",
    "version": 3
   },
   "file_extension": ".py",
   "mimetype": "text/x-python",
   "name": "python",
   "nbconvert_exporter": "python",
   "pygments_lexer": "ipython3",
   "version": "3.7.3"
  }
 },
 "nbformat": 4,
 "nbformat_minor": 2
}
